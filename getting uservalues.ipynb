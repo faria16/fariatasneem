{
 "cells": [
  {
   "cell_type": "markdown",
   "id": "4536963a",
   "metadata": {
    "id": "4536963a"
   },
   "source": [
    "# Getting Values from User"
   ]
  },
  {
   "cell_type": "code",
   "execution_count": null,
   "id": "defd92b5",
   "metadata": {
    "id": "defd92b5"
   },
   "outputs": [],
   "source": [
    "a = input()\n",
    "\n",
    "print(a)"
   ]
  },
  {
   "cell_type": "code",
   "execution_count": null,
   "id": "a6ea21fb",
   "metadata": {
    "id": "a6ea21fb"
   },
   "outputs": [],
   "source": [
    "b = input(\"Enter a Number: \")\n",
    "\n",
    "print(b)"
   ]
  },
  {
   "cell_type": "code",
   "execution_count": null,
   "id": "c28a7082",
   "metadata": {
    "id": "c28a7082",
    "outputId": "77551b48-0be5-460f-cb72-5953f5f1f115"
   },
   "outputs": [
    {
     "name": "stdout",
     "output_type": "stream",
     "text": [
      "Enter Your Name: Himanshu\n",
      "Hello! Himanshu\n"
     ]
    }
   ],
   "source": [
    "x = input(\"Enter Your Name: \")\n",
    "\n",
    "print(\"Hello!\", x)"
   ]
  },
  {
   "cell_type": "code",
   "execution_count": null,
   "id": "dfa716e2",
   "metadata": {
    "id": "dfa716e2",
    "outputId": "6379b5c2-65c6-42cf-ba0d-37a64e51d4df"
   },
   "outputs": [
    {
     "name": "stdout",
     "output_type": "stream",
     "text": [
      "Enter Your Password: 12345\n",
      "Your Password is :  12345\n"
     ]
    }
   ],
   "source": [
    "password = input(\"Enter Your Password: \")\n",
    "\n",
    "print(\"Your Password is : \", password)"
   ]
  },
  {
   "cell_type": "code",
   "execution_count": null,
   "id": "8d0d6334",
   "metadata": {
    "id": "8d0d6334"
   },
   "outputs": [],
   "source": []
  }
 ],
 "metadata": {
  "colab": {
   "provenance": []
  },
  "kernelspec": {
   "display_name": "Python 3 (ipykernel)",
   "language": "python",
   "name": "python3"
  },
  "language_info": {
   "codemirror_mode": {
    "name": "ipython",
    "version": 3
   },
   "file_extension": ".py",
   "mimetype": "text/x-python",
   "name": "python",
   "nbconvert_exporter": "python",
   "pygments_lexer": "ipython3",
   "version": "3.11.4"
  }
 },
 "nbformat": 4,
 "nbformat_minor": 5
}
